{
 "cells": [
  {
   "cell_type": "markdown",
   "id": "65bf8605-1ad7-42ea-ab6a-4bc57096d36a",
   "metadata": {},
   "source": [
    "# Infretis Report [Template]\n",
    "\n",
    "Infretis simulations generate a lot of data. Here we provide a standard template illustrating typical analysis that can be done when `infretis` has generated a number of trajectories."
   ]
  },
  {
   "cell_type": "markdown",
   "id": "834c6302-62ee-4966-9cb9-05b6eab47380",
   "metadata": {},
   "source": [
    "### Set parameters and file/folder paths, and check if they are valid\n",
    "\n",
    "Only the following the following cell may require user input, e.g.\n",
    "\n",
    "* MD time step\n",
    "* time unit\n",
    "* data files and folders\n",
    "    * `infretis.toml` : The toml file containing simulation settings. Needed for running a infretis simulation.\n",
    "    * `infretis_data.txt` : The swapping and high acceptance weights for the generated paths throughout an infretis simulation.\n",
    "    * `sim.log` : The log file for an infretis simulation.\n",
    "    * `load/` : The folder where accepted trajectories and their associated order.txt (etc) are saved to.\n",
    "    * `wham/` : The wham folder containing the kinetics and (and free energies)\n",
    "\n",
    "NB. the `wham` data analysis folder can be generated via inftools, ```inft wham -h```"
   ]
  },
  {
   "cell_type": "code",
   "execution_count": null,
   "id": "fa701b7e-9000-4244-aef4-94a1d3b1a380",
   "metadata": {},
   "outputs": [],
   "source": [
    "# standard imports\n",
    "import os\n",
    "import numpy as np\n",
    "import matplotlib.pyplot as plt\n",
    "\n",
    "### Usually for the following engines:\n",
    "# Gromacs: md_dt = 0.002, units = \"ps\"\n",
    "# CP2K:    md_dt = 0.5,   units = \"fs\"\n",
    "\n",
    "md_dt = 1         \n",
    "units = \"internal\"\n",
    "\n",
    "# path to infretis data files/folders, to be changed if needed\n",
    "fpaths = {\n",
    "    \"toml\": \"../infretis.toml\",\n",
    "    \"data\": \"../infretis_data.txt\",\n",
    "    \"log\": \"../sim.log\",\n",
    "    \"load\": \"../load/\",\n",
    "    \"wham\": \"../wham/\",\n",
    "}\n",
    "\n",
    "# check that they exist\n",
    "valid = [os.path.exists(value) for key, value in fpaths.items()]\n",
    "assert np.all(valid)\n",
    "\n",
    "print(\"\\nreport lies in \", os.getcwd())"
   ]
  },
  {
   "cell_type": "markdown",
   "id": "aeee656b-0d63-48b7-84fe-94c092bcc6af",
   "metadata": {},
   "source": [
    "### Load the data"
   ]
  },
  {
   "cell_type": "code",
   "execution_count": null,
   "id": "42085284-01af-4616-8935-ce6e820f8781",
   "metadata": {},
   "outputs": [],
   "source": [
    "from inftools.misc.infinit_helper import read_toml\n",
    "from inftools.tistools.calc_simtime import calc_simtime\n",
    "from inftools.misc.data_helper import data_reader\n",
    "\n",
    "print(\"\\nSimulation data:\")\n",
    "# print standard information\n",
    "toml = read_toml(fpaths[\"toml\"])\n",
    "intfs = toml[\"simulation\"][\"interfaces\"]\n",
    "print(\"Number of ensembles:\", len(intfs), f\", from 000 to {len(intfs)-1:03.0f}\")\n",
    "subcycles = toml[\"engine\"][\"subcycles\"]\n",
    "unitconv = subcycles*md_dt\n",
    "\n",
    "data = data_reader(fpaths[\"data\"])\n",
    "# count reactive\n",
    "rcnt = 0\n",
    "for path in data:\n",
    "    if float(path[\"max_op\"]) > intfs[-1]:\n",
    "        rcnt += 1\n",
    "print(f\"Sampled paths: {len(data)}, reactive: {rcnt}\")\n",
    "\n",
    "simtime, restarts = calc_simtime(fpaths[\"log\"])\n",
    "print(f\"Simulation wall time: {simtime:.04f} days, restarts: {restarts}\\n\")\n"
   ]
  },
  {
   "cell_type": "markdown",
   "id": "ce66ea03-62e2-46f8-97df-531d2bfcbe3d",
   "metadata": {},
   "source": [
    "### Flux, Conditional Crossing Probability and Rate\n",
    "\n",
    "Running estimates for the flux, pcross and rate can be generated from ```inft wham -h```"
   ]
  },
  {
   "cell_type": "code",
   "execution_count": null,
   "id": "1aa342e3-733b-48d4-b1f6-c3b4344c3db8",
   "metadata": {},
   "outputs": [],
   "source": [
    "# Flux, Pcross, Rate\n",
    "runav_flux = np.loadtxt(fpaths[\"wham\"] + \"runav_flux.txt\")\n",
    "runav_pcro = np.loadtxt(fpaths[\"wham\"] + \"runav_Pcross.txt\")\n",
    "runav_rate = np.loadtxt(fpaths[\"wham\"] + \"runav_rate.txt\")\n",
    "pcro = np.loadtxt(fpaths[\"wham\"] + \"Pcross.txt\")\n",
    "err_flux = np.loadtxt(fpaths[\"wham\"] + \"errFLUX.txt\")\n",
    "err_pcro = np.loadtxt(fpaths[\"wham\"] + \"errPtot.txt\")\n",
    "err_rate = np.loadtxt(fpaths[\"wham\"] + \"errRATE.txt\")\n",
    "\n",
    "fig, axs = plt.subplots(1, 3, figsize=(16, 3))\n",
    "\n",
    "# Figure 1\n",
    "for intf in intfs:\n",
    "    axs[0].axvline(intf, color=\"k\", alpha=0.2, zorder=1)\n",
    "axs[0].plot(pcro[:, 0], pcro[:, -1], zorder=2)\n",
    "axs[0].set_yscale(\"log\")\n",
    "axs[0].set_title(r\"Conditional Prossing Probability\")\n",
    "axs[0].set_xlabel(\"Order Parameter\")\n",
    "\n",
    "# Figure 2\n",
    "runav_flux[:, -1] /= unitconv\n",
    "runav_rate[:, -1] /= unitconv\n",
    "axs[1].axhline(runav_rate[-1, -1], alpha=0.2, color=\"C0\")\n",
    "axs[1].plot(runav_rate[:, 0], runav_rate[:, -1], label=f\"Rate [1/{units}]\", color=\"C0\")\n",
    "axs[1].axhline(runav_pcro[-1, -1], alpha=0.2, color=\"C1\")\n",
    "axs[1].plot(runav_pcro[:, 0], runav_pcro[:, -1], label=\"Pcross\", color=\"C1\")\n",
    "axs[1].axhline(runav_flux[-1, -1], alpha=0.2, color=\"C2\")\n",
    "axs[1].plot(runav_flux[:, 0], runav_flux[:, -1], label=f\"Flux [1/{units}]\", color=\"C2\")\n",
    "axs[1].set_yscale(\"log\")\n",
    "axs[1].set_title(r\"Running Average estimates\")\n",
    "axs[1].set_xlabel(\"Accepted Paths\")\n",
    "axs[1].legend(bbox_to_anchor=(-0.15, 1.02, 1, 0.2), loc=\"lower left\", mode=\"expand\",\n",
    "              borderaxespad=0, fontsize=8, frameon=False)\n",
    "\n",
    "# Figure 3\n",
    "axs[2].axhline(err_rate[-1, -1], alpha=0.2, color=\"C0\")\n",
    "axs[2].plot(err_rate[:, 0], err_rate[:, -1], label=\"Rate\", color=\"C0\")\n",
    "axs[2].axhline(err_pcro[-1, -1], alpha=0.2, color=\"C1\")\n",
    "axs[2].plot(err_pcro[:, 0], err_pcro[:, -1], label=\"Pcross\", color=\"C1\")\n",
    "axs[2].axhline(err_flux[-1, -1], alpha=0.2, color=\"C2\")\n",
    "axs[2].plot(err_flux[:, 0], err_flux[:, -1], label=\"Flux\", color=\"C2\")\n",
    "axs[2].set_yscale(\"log\")\n",
    "axs[2].set_title(r\"Running Block Error\")\n",
    "axs[2].set_xlabel(\"Accepted Paths\")\n",
    "axs[2].legend(bbox_to_anchor=(-0.15, 1.02, 1, 0.2), loc=\"lower left\", mode=\"expand\",\n",
    "              borderaxespad=0, fontsize=8, frameon=False)\n",
    "plt.show()\n",
    "\n",
    "print(f\"With a pcross {runav_pcro[-1, -1]:.04e} and flux {runav_flux[-1, -1]:.04e} [1/{units}], time step of {md_dt} {units}\",)\n",
    "print(f\"rate is estimated to be {runav_rate[-1, -1]:.4e} [1/{units}]\")\n",
    "# to be... is the error"
   ]
  },
  {
   "cell_type": "markdown",
   "id": "42809448-c162-4df0-b97f-fe5ea305eeed",
   "metadata": {},
   "source": [
    "#### Individual Path Convergence\n",
    "\n",
    "For [i^+] ensembles only."
   ]
  },
  {
   "cell_type": "code",
   "execution_count": null,
   "id": "cc0fc8c7-9663-4720-90fe-408955e315c8",
   "metadata": {},
   "outputs": [],
   "source": [
    "ploc_pcros = np.loadtxt(fpaths[\"wham\"] + \"ploc_WHAM.txt\")\n",
    "ploc_runav = np.loadtxt(fpaths[\"wham\"] + \"runav_ploc.txt\")\n",
    "ploc_err   = np.loadtxt(fpaths[\"wham\"] + \"errploc.txt\")\n",
    "\n",
    "# for i, ens  in range(1, len(intfs)):\n",
    "for i, ens in enumerate([f\"[{i}^+]\" for i in range(len(intfs)-1)], start=1):\n",
    "    fig, axs = plt.subplots(1, 3, figsize=(16, 3))\n",
    "    axs[0].plot(ploc_pcros[:, 0], ploc_pcros[:, i]/np.max(ploc_pcros[:, i]), zorder=5)\n",
    "    axs[0].set_ylim([0, 1])\n",
    "    axs[0].axvline(intfs[0], color=\"k\")\n",
    "    axs[0].axvline(intfs[-1], color=\"k\")\n",
    "    axs[0].axvline(intfs[i], color=\"k\", alpha=0.4, ls=\"--\")\n",
    "    axs[0].set_xlabel(r\"Order parameter ($\\lambda$)\")\n",
    "    axs[0].set_title(f\"{ens} Crossing probability\")\n",
    "\n",
    "    axs[1].plot(ploc_runav[:, 0], ploc_runav[:, i], zorder=5)\n",
    "    axs[1].axhline(ploc_runav[-1, i], color=\"k\", alpha=0.4, ls=\"--\")\n",
    "    axs[1].set_xlabel(r\"Uniquely sampled path\")\n",
    "    axs[1].set_title(f\"{ens} Running estimate\")\n",
    "    \n",
    "    axs[2].plot(ploc_err[:, 0], ploc_err[:, i], zorder=5)\n",
    "    half = int(len(ploc_err[:, i])/2)\n",
    "    axs[2].axhline(np.average(ploc_err[half:, i]), color=\"k\", alpha=0.4, ls=\"--\")\n",
    "    axs[2].set_xlabel(r\"Block length\")\n",
    "    axs[2].set_title(f\"{ens} Estimated error\")\n",
    "    plt.show()\n"
   ]
  },
  {
   "cell_type": "markdown",
   "id": "3d0c6f7c-1550-4acb-9c1b-a694c55e9181",
   "metadata": {},
   "source": [
    "### Uniquely sampled paths per enesmble"
   ]
  },
  {
   "cell_type": "code",
   "execution_count": null,
   "id": "7cd9e139-bf11-4b88-8e9b-5a04244213af",
   "metadata": {},
   "outputs": [],
   "source": [
    "from inftools.misc.data_helper import data_reader\n",
    "\n",
    "paths = data_reader(fpaths[\"data\"])\n",
    "ens_cnt = [0 for _ in range(len(intfs))]\n",
    "for path in paths:\n",
    "    for key in path[\"cols\"]:\n",
    "        # ens_cnt[key] += 1\n",
    "        ens_cnt[key] += 1\n",
    "plt.scatter(list(range(len(intfs))), ens_cnt)\n",
    "plt.ylim([0, None])\n",
    "plt.xlabel(\"Ensemble\")\n",
    "plt.ylabel(\"Number of uniquely sampled paths\")"
   ]
  },
  {
   "cell_type": "markdown",
   "id": "d9317d9e-958d-4380-b1cc-7223a7a2614b",
   "metadata": {},
   "source": [
    "### Ensemble pcross"
   ]
  },
  {
   "cell_type": "code",
   "execution_count": null,
   "id": "00186195-1363-47ac-bed5-a896dcb0278e",
   "metadata": {},
   "outputs": [],
   "source": [
    "print(ploc_runav.shape[1])\n",
    "print(len(ploc_runav[-1, :]))\n",
    "plt.scatter(np.arange(ploc_runav.shape[1])[1:], ploc_runav[-1, 1:])\n",
    "plt.xlabel(\"Ensemble\")\n",
    "plt.ylabel(\"Ensemble Pcross\")\n",
    "plt.axhline(0, color=\"k\")\n",
    "plt.axhline(1, color=\"k\")\n",
    "plt.show()"
   ]
  },
  {
   "cell_type": "markdown",
   "id": "f960b1cb-06c5-4b74-95c5-d5804a1add19",
   "metadata": {},
   "source": [
    "### Ensemble Acceptance Ratio"
   ]
  },
  {
   "cell_type": "code",
   "execution_count": null,
   "id": "9947027c-a555-496b-beda-69a22aeae3e1",
   "metadata": {},
   "outputs": [],
   "source": [
    "from inftools.tistools.simacc import sim_acc\n",
    "\n",
    "sim_acc(fpaths[\"log\"], fpaths[\"toml\"])"
   ]
  },
  {
   "cell_type": "markdown",
   "id": "05df2040-317b-4c22-b8d6-87b81fb69fe5",
   "metadata": {},
   "source": [
    "### Average ensemble path lenghts"
   ]
  },
  {
   "cell_type": "code",
   "execution_count": null,
   "id": "cb84af42-51c0-4b05-a2a5-8f95878b564f",
   "metadata": {},
   "outputs": [],
   "source": [
    "plens = np.loadtxt(fpaths[\"wham\"] + \"pathlengths.txt\")\n",
    "plt.scatter(plens[:, 0], plens[:, 1]*subcycles*md_dt)\n",
    "plt.xlabel(\"Ensembles\")\n",
    "plt.ylabel(f\"Path length [{units}]\")"
   ]
  },
  {
   "cell_type": "markdown",
   "id": "7ec2faa2-8375-495e-a759-4c8acb98ca9f",
   "metadata": {},
   "source": [
    "### Max order parameter ensemble distributions"
   ]
  },
  {
   "cell_type": "code",
   "execution_count": null,
   "id": "4c30e14f-8e5d-495d-9837-77b70baa6bd6",
   "metadata": {},
   "outputs": [],
   "source": [
    "from inftools.tistools.max_op import plot_max_op\n",
    "\n",
    "for ens in range(len(intfs)-1):\n",
    "    print(f\"ens [{ens}^+]\")\n",
    "    plot_max_op(ensp=ens, data=fpaths[\"data\"], toml=fpaths[\"toml\"], weights=False)"
   ]
  },
  {
   "cell_type": "markdown",
   "id": "0b5b0ee8-acca-4690-b00f-34273a7f566f",
   "metadata": {},
   "source": [
    "### Replica Exchange and Flow\n",
    "\n",
    "Better decorrelation and path space exploration is enabled through the \"flow\" of replica across path ensembles throughout an infretis simulation.\n",
    "\n"
   ]
  },
  {
   "cell_type": "code",
   "execution_count": null,
   "id": "6d165591-324b-4012-ace7-13b371a89d2e",
   "metadata": {},
   "outputs": [],
   "source": [
    "# Investigate flow of replica through ensembles:\n",
    "from inftools.tistools.flow_op import calc_flow_op\n",
    "\n",
    "replica = 0 # any value between 0 to -1\n",
    "for rep in range(len(intfs)):\n",
    "    print(\"replica\", rep)\n",
    "    _ = calc_flow_op(rep=rep, toml=fpaths[\"toml\"], log=fpaths[\"log\"], load=fpaths[\"load\"])"
   ]
  },
  {
   "cell_type": "markdown",
   "id": "6db179c8-175e-464c-ae8c-bdd1d8e3b970",
   "metadata": {},
   "source": [
    "### Source\n",
    "\n",
    "[1] \n",
    "\n",
    "[2]\n",
    "\n",
    "[3]"
   ]
  }
 ],
 "metadata": {
  "language_info": {
   "name": "python"
  }
 },
 "nbformat": 4,
 "nbformat_minor": 5
}
